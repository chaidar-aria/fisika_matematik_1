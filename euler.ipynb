{
 "cells": [
  {
   "cell_type": "code",
   "execution_count": 21,
   "metadata": {},
   "outputs": [],
   "source": [
    "import numpy as np\n",
    "import matplotlib.pyplot as plt\n",
    "%matplotlib inline"
   ]
  },
  {
   "cell_type": "code",
   "execution_count": 22,
   "metadata": {},
   "outputs": [],
   "source": [
    "# Nilai awal\n",
    "x0 = 0\n",
    "y0 = 1\n",
    "dx = 0.02"
   ]
  },
  {
   "cell_type": "code",
   "execution_count": 23,
   "metadata": {},
   "outputs": [],
   "source": [
    "# Definisi fungsi \n",
    "def f(x,y):\n",
    "    return -x**2*y"
   ]
  },
  {
   "cell_type": "code",
   "execution_count": 24,
   "metadata": {},
   "outputs": [
    {
     "name": "stdout",
     "output_type": "stream",
     "text": [
      "0.02 1.0\n",
      "0.04 0.999992\n",
      "0.06 0.999960000256\n",
      "0.08 0.9998880031359815\n",
      "0.1 0.99976001747158\n",
      "0.12 0.9995600654680857\n",
      "0.14 0.9992721921692309\n",
      "0.16 0.9988804774699006\n",
      "0.18 0.998369050665436\n",
      "0.2 0.9977221075206049\n"
     ]
    }
   ],
   "source": [
    "x = dx*np.arange(11)+x0\n",
    "y = np.zeros(11)\n",
    "y[0] = y0\n",
    "\n",
    "#Iterasi Euler\n",
    "for n in range(0,10):\n",
    "    y[n+1] = y[n] + dx*f(x[n],y[n])\n",
    "\n",
    "    #cetak hasil\n",
    "    print(x[n+1], y[n+1])"
   ]
  },
  {
   "cell_type": "code",
   "execution_count": 25,
   "metadata": {},
   "outputs": [],
   "source": [
    "# Eksak\n",
    "yeksak = np.exp(-x)"
   ]
  },
  {
   "cell_type": "code",
   "execution_count": 26,
   "metadata": {},
   "outputs": [
    {
     "data": {
      "image/png": "[encoded data removed]",
      "text/plain": [
       "<Figure size 432x288 with 1 Axes>"
      ]
     },
     "metadata": {
      "needs_background": "light"
     },
     "output_type": "display_data"
    }
   ],
   "source": [
    "# Buat Grafik\n",
    "plt.plot(x,y,'or')\n",
    "plt.plot(x, yeksak, '-b')\n",
    "plt.xlabel('$x$')\n",
    "plt.ylabel('$y$')\n",
    "plt.legend([\"Metode Euler\", \"Eksak\"])\n",
    "plt.show()"
   ]
  },
  {
   "cell_type": "code",
   "execution_count": null,
   "metadata": {},
   "outputs": [],
   "source": []
  }
 ],
 "metadata": {
  "interpreter": {
   "hash": "aecd030d4c8316a52bf122072e28f84bcc79844c2684e041fef2e3f1d9f59078"
  },
  "kernelspec": {
   "display_name": "Python 3.10.2 64-bit",
   "language": "python",
   "name": "python3"
  },
  "language_info": {
   "codemirror_mode": {
    "name": "ipython",
    "version": 3
   },
   "file_extension": ".py",
   "mimetype": "text/x-python",
   "name": "python",
   "nbconvert_exporter": "python",
   "pygments_lexer": "ipython3",
   "version": "3.10.2"
  },
  "orig_nbformat": 4
 },
 "nbformat": 4,
 "nbformat_minor": 2
}
