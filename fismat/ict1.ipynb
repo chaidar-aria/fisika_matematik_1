{
 "cells": [
  {
   "cell_type": "code",
   "execution_count": 5,
   "metadata": {},
   "outputs": [],
   "source": [
    "import sympy as smp\n",
    "from sympy import *"
   ]
  },
  {
   "cell_type": "code",
   "execution_count": 6,
   "metadata": {},
   "outputs": [],
   "source": [
    "n, x = smp.symbols('n x')"
   ]
  },
  {
   "cell_type": "markdown",
   "metadata": {},
   "source": [
    "1. $$\\sum_{n=1}^{\\infty}\\frac{n}{n+4}$$"
   ]
  },
  {
   "cell_type": "code",
   "execution_count": 7,
   "metadata": {},
   "outputs": [
    {
     "data": {
      "text/latex": [
       "$\\displaystyle \\infty$"
      ],
      "text/plain": [
       "oo"
      ]
     },
     "execution_count": 7,
     "metadata": {},
     "output_type": "execute_result"
    }
   ],
   "source": [
    "smp.Sum(n / (n+4),(n,1,smp.oo)).doit()"
   ]
  },
  {
   "cell_type": "code",
   "execution_count": 8,
   "metadata": {},
   "outputs": [
    {
     "ename": "ValueError",
     "evalue": "Sum diverges like n^0",
     "output_type": "error",
     "traceback": [
      "\u001b[1;31m---------------------------------------------------------------------------\u001b[0m",
      "\u001b[1;31mValueError\u001b[0m                                Traceback (most recent call last)",
      "\u001b[1;32mc:\\py\\fismat1\\task1\\fismat\\ict1.ipynb Cell 5'\u001b[0m in \u001b[0;36m<module>\u001b[1;34m\u001b[0m\n\u001b[1;32m----> <a href='vscode-notebook-cell:/c%3A/py/fismat1/task1/fismat/ict1.ipynb#ch0000004?line=0'>1</a>\u001b[0m smp\u001b[39m.\u001b[39;49mSum(n \u001b[39m/\u001b[39;49m (n\u001b[39m+\u001b[39;49m\u001b[39m4\u001b[39;49m),(n,\u001b[39m1\u001b[39;49m,smp\u001b[39m.\u001b[39;49moo))\u001b[39m.\u001b[39;49mn()\n",
      "File \u001b[1;32m~\\AppData\\Local\\Programs\\Python\\Python310\\lib\\site-packages\\sympy\\core\\evalf.py:1514\u001b[0m, in \u001b[0;36mEvalfMixin.evalf\u001b[1;34m(self, n, subs, maxn, chop, strict, quad, verbose)\u001b[0m\n\u001b[0;32m   <a href='file:///c%3A/Users/User/AppData/Local/Programs/Python/Python310/lib/site-packages/sympy/core/evalf.py?line=1511'>1512</a>\u001b[0m     options[\u001b[39m'\u001b[39m\u001b[39mquad\u001b[39m\u001b[39m'\u001b[39m] \u001b[39m=\u001b[39m quad\n\u001b[0;32m   <a href='file:///c%3A/Users/User/AppData/Local/Programs/Python/Python310/lib/site-packages/sympy/core/evalf.py?line=1512'>1513</a>\u001b[0m \u001b[39mtry\u001b[39;00m:\n\u001b[1;32m-> <a href='file:///c%3A/Users/User/AppData/Local/Programs/Python/Python310/lib/site-packages/sympy/core/evalf.py?line=1513'>1514</a>\u001b[0m     result \u001b[39m=\u001b[39m evalf(\u001b[39mself\u001b[39;49m, prec \u001b[39m+\u001b[39;49m \u001b[39m4\u001b[39;49m, options)\n\u001b[0;32m   <a href='file:///c%3A/Users/User/AppData/Local/Programs/Python/Python310/lib/site-packages/sympy/core/evalf.py?line=1514'>1515</a>\u001b[0m \u001b[39mexcept\u001b[39;00m \u001b[39mNotImplementedError\u001b[39;00m:\n\u001b[0;32m   <a href='file:///c%3A/Users/User/AppData/Local/Programs/Python/Python310/lib/site-packages/sympy/core/evalf.py?line=1515'>1516</a>\u001b[0m     \u001b[39m# Fall back to the ordinary evalf\u001b[39;00m\n\u001b[0;32m   <a href='file:///c%3A/Users/User/AppData/Local/Programs/Python/Python310/lib/site-packages/sympy/core/evalf.py?line=1516'>1517</a>\u001b[0m     \u001b[39mif\u001b[39;00m \u001b[39mhasattr\u001b[39m(\u001b[39mself\u001b[39m, \u001b[39m'\u001b[39m\u001b[39msubs\u001b[39m\u001b[39m'\u001b[39m) \u001b[39mand\u001b[39;00m subs \u001b[39mis\u001b[39;00m \u001b[39mnot\u001b[39;00m \u001b[39mNone\u001b[39;00m:  \u001b[39m# issue 20291\u001b[39;00m\n",
      "File \u001b[1;32m~\\AppData\\Local\\Programs\\Python\\Python310\\lib\\site-packages\\sympy\\core\\evalf.py:1366\u001b[0m, in \u001b[0;36mevalf\u001b[1;34m(x, prec, options)\u001b[0m\n\u001b[0;32m   <a href='file:///c%3A/Users/User/AppData/Local/Programs/Python/Python310/lib/site-packages/sympy/core/evalf.py?line=1363'>1364</a>\u001b[0m \u001b[39mtry\u001b[39;00m:\n\u001b[0;32m   <a href='file:///c%3A/Users/User/AppData/Local/Programs/Python/Python310/lib/site-packages/sympy/core/evalf.py?line=1364'>1365</a>\u001b[0m     rf \u001b[39m=\u001b[39m evalf_table[x\u001b[39m.\u001b[39mfunc]\n\u001b[1;32m-> <a href='file:///c%3A/Users/User/AppData/Local/Programs/Python/Python310/lib/site-packages/sympy/core/evalf.py?line=1365'>1366</a>\u001b[0m     r \u001b[39m=\u001b[39m rf(x, prec, options)\n\u001b[0;32m   <a href='file:///c%3A/Users/User/AppData/Local/Programs/Python/Python310/lib/site-packages/sympy/core/evalf.py?line=1366'>1367</a>\u001b[0m \u001b[39mexcept\u001b[39;00m \u001b[39mKeyError\u001b[39;00m:\n\u001b[0;32m   <a href='file:///c%3A/Users/User/AppData/Local/Programs/Python/Python310/lib/site-packages/sympy/core/evalf.py?line=1367'>1368</a>\u001b[0m     \u001b[39m# Fall back to ordinary evalf if possible\u001b[39;00m\n\u001b[0;32m   <a href='file:///c%3A/Users/User/AppData/Local/Programs/Python/Python310/lib/site-packages/sympy/core/evalf.py?line=1368'>1369</a>\u001b[0m     \u001b[39mif\u001b[39;00m \u001b[39m'\u001b[39m\u001b[39msubs\u001b[39m\u001b[39m'\u001b[39m \u001b[39min\u001b[39;00m options:\n",
      "File \u001b[1;32m~\\AppData\\Local\\Programs\\Python\\Python310\\lib\\site-packages\\sympy\\core\\evalf.py:1223\u001b[0m, in \u001b[0;36mevalf_sum\u001b[1;34m(expr, prec, options)\u001b[0m\n\u001b[0;32m   <a href='file:///c%3A/Users/User/AppData/Local/Programs/Python/Python310/lib/site-packages/sympy/core/evalf.py?line=1220'>1221</a>\u001b[0m     \u001b[39mraise\u001b[39;00m \u001b[39mNotImplementedError\u001b[39;00m\n\u001b[0;32m   <a href='file:///c%3A/Users/User/AppData/Local/Programs/Python/Python310/lib/site-packages/sympy/core/evalf.py?line=1221'>1222</a>\u001b[0m \u001b[39m# Use fast hypergeometric summation if possible\u001b[39;00m\n\u001b[1;32m-> <a href='file:///c%3A/Users/User/AppData/Local/Programs/Python/Python310/lib/site-packages/sympy/core/evalf.py?line=1222'>1223</a>\u001b[0m v \u001b[39m=\u001b[39m hypsum(func, n, \u001b[39mint\u001b[39;49m(a), prec2)\n\u001b[0;32m   <a href='file:///c%3A/Users/User/AppData/Local/Programs/Python/Python310/lib/site-packages/sympy/core/evalf.py?line=1223'>1224</a>\u001b[0m delta \u001b[39m=\u001b[39m prec \u001b[39m-\u001b[39m fastlog(v)\n\u001b[0;32m   <a href='file:///c%3A/Users/User/AppData/Local/Programs/Python/Python310/lib/site-packages/sympy/core/evalf.py?line=1224'>1225</a>\u001b[0m \u001b[39mif\u001b[39;00m fastlog(v) \u001b[39m<\u001b[39m \u001b[39m-\u001b[39m\u001b[39m10\u001b[39m:\n",
      "File \u001b[1;32m~\\AppData\\Local\\Programs\\Python\\Python310\\lib\\site-packages\\sympy\\core\\evalf.py:1169\u001b[0m, in \u001b[0;36mhypsum\u001b[1;34m(expr, n, start, prec)\u001b[0m\n\u001b[0;32m   <a href='file:///c%3A/Users/User/AppData/Local/Programs/Python/Python310/lib/site-packages/sympy/core/evalf.py?line=1166'>1167</a>\u001b[0m     \u001b[39mraise\u001b[39;00m \u001b[39mValueError\u001b[39;00m(\u001b[39m\"\u001b[39m\u001b[39mSum diverges like (\u001b[39m\u001b[39m%i\u001b[39;00m\u001b[39m)^n\u001b[39m\u001b[39m\"\u001b[39m \u001b[39m%\u001b[39m \u001b[39mabs\u001b[39m(\u001b[39m1\u001b[39m\u001b[39m/\u001b[39mg))\n\u001b[0;32m   <a href='file:///c%3A/Users/User/AppData/Local/Programs/Python/Python310/lib/site-packages/sympy/core/evalf.py?line=1167'>1168</a>\u001b[0m \u001b[39mif\u001b[39;00m p \u001b[39m<\u001b[39m \u001b[39m1\u001b[39m \u001b[39mor\u001b[39;00m (p \u001b[39m==\u001b[39m \u001b[39m1\u001b[39m \u001b[39mand\u001b[39;00m \u001b[39mnot\u001b[39;00m alt):\n\u001b[1;32m-> <a href='file:///c%3A/Users/User/AppData/Local/Programs/Python/Python310/lib/site-packages/sympy/core/evalf.py?line=1168'>1169</a>\u001b[0m     \u001b[39mraise\u001b[39;00m \u001b[39mValueError\u001b[39;00m(\u001b[39m\"\u001b[39m\u001b[39mSum diverges like n^\u001b[39m\u001b[39m%i\u001b[39;00m\u001b[39m\"\u001b[39m \u001b[39m%\u001b[39m (\u001b[39m-\u001b[39mp))\n\u001b[0;32m   <a href='file:///c%3A/Users/User/AppData/Local/Programs/Python/Python310/lib/site-packages/sympy/core/evalf.py?line=1169'>1170</a>\u001b[0m \u001b[39m# We have polynomial convergence: use Richardson extrapolation\u001b[39;00m\n\u001b[0;32m   <a href='file:///c%3A/Users/User/AppData/Local/Programs/Python/Python310/lib/site-packages/sympy/core/evalf.py?line=1170'>1171</a>\u001b[0m vold \u001b[39m=\u001b[39m \u001b[39mNone\u001b[39;00m\n",
      "\u001b[1;31mValueError\u001b[0m: Sum diverges like n^0"
     ]
    }
   ],
   "source": [
    "smp.Sum(n / (n+4),(n,1,smp.oo)).n()"
   ]
  },
  {
   "cell_type": "code",
   "execution_count": 9,
   "metadata": {},
   "outputs": [
    {
     "data": {
      "text/latex": [
       "$\\displaystyle \\text{False}$"
      ],
      "text/plain": [
       "False"
      ]
     },
     "execution_count": 9,
     "metadata": {},
     "output_type": "execute_result"
    }
   ],
   "source": [
    "smp.Sum(n / (n+4),(n,1,smp.oo)).is_convergent()"
   ]
  },
  {
   "cell_type": "markdown",
   "metadata": {},
   "source": [
    "2. $$\\sum_{n=1}^{\\infty}\\frac{n}{3^n}$$"
   ]
  },
  {
   "cell_type": "code",
   "execution_count": 24,
   "metadata": {},
   "outputs": [
    {
     "data": {
      "text/latex": [
       "$\\displaystyle \\frac{3}{4}$"
      ],
      "text/plain": [
       "3/4"
      ]
     },
     "execution_count": 24,
     "metadata": {},
     "output_type": "execute_result"
    }
   ],
   "source": [
    "smp.Sum(n/ (3**n), (n,1,smp.oo)).doit()"
   ]
  },
  {
   "cell_type": "code",
   "execution_count": 11,
   "metadata": {},
   "outputs": [
    {
     "data": {
      "text/latex": [
       "$\\displaystyle 0.75$"
      ],
      "text/plain": [
       "0.750000000000000"
      ]
     },
     "execution_count": 11,
     "metadata": {},
     "output_type": "execute_result"
    }
   ],
   "source": [
    "smp.Sum(n/ (3**n), (n,1,smp.oo)).n()"
   ]
  },
  {
   "cell_type": "code",
   "execution_count": 12,
   "metadata": {},
   "outputs": [
    {
     "data": {
      "text/latex": [
       "$\\displaystyle \\text{True}$"
      ],
      "text/plain": [
       "True"
      ]
     },
     "execution_count": 12,
     "metadata": {},
     "output_type": "execute_result"
    }
   ],
   "source": [
    "smp.Sum(n/ (3**n), (n,1,smp.oo)).is_convergent()"
   ]
  },
  {
   "cell_type": "markdown",
   "metadata": {},
   "source": [
    "3. $$\\sum_{n=1}^{\\infty}\\frac{\\sqrt{n}}{n+2}$$"
   ]
  },
  {
   "cell_type": "code",
   "execution_count": 13,
   "metadata": {},
   "outputs": [
    {
     "data": {
      "text/latex": [
       "$\\displaystyle \\sum_{n=1}^{\\infty} \\frac{\\sqrt{n}}{n + 2}$"
      ],
      "text/plain": [
       "Sum(sqrt(n)/(n + 2), (n, 1, oo))"
      ]
     },
     "execution_count": 13,
     "metadata": {},
     "output_type": "execute_result"
    }
   ],
   "source": [
    "smp.Sum(smp.sqrt(n) / (n+2),(n,1,smp.oo)).doit()"
   ]
  },
  {
   "cell_type": "code",
   "execution_count": 14,
   "metadata": {},
   "outputs": [
    {
     "data": {
      "text/latex": [
       "$\\displaystyle 2.0 \\cdot 10^{65}$"
      ],
      "text/plain": [
       "0.e+65"
      ]
     },
     "execution_count": 14,
     "metadata": {},
     "output_type": "execute_result"
    }
   ],
   "source": [
    "smp.Sum(smp.sqrt(n) / (n+2),(n,1,smp.oo)).n()"
   ]
  },
  {
   "cell_type": "code",
   "execution_count": 15,
   "metadata": {},
   "outputs": [
    {
     "data": {
      "text/latex": [
       "$\\displaystyle \\text{False}$"
      ],
      "text/plain": [
       "False"
      ]
     },
     "execution_count": 15,
     "metadata": {},
     "output_type": "execute_result"
    }
   ],
   "source": [
    "smp.Sum(smp.sqrt(n) / (n+2),(n,1,smp.oo)).is_convergent()"
   ]
  },
  {
   "cell_type": "markdown",
   "metadata": {},
   "source": [
    "4. $$\\sum_{n=1}^{\\infty}\\frac{(-1)^n}{n+1}$$"
   ]
  },
  {
   "cell_type": "code",
   "execution_count": 16,
   "metadata": {},
   "outputs": [
    {
     "data": {
      "text/latex": [
       "$\\displaystyle -1 + \\log{\\left(2 \\right)}$"
      ],
      "text/plain": [
       "-1 + log(2)"
      ]
     },
     "execution_count": 16,
     "metadata": {},
     "output_type": "execute_result"
    }
   ],
   "source": [
    "smp.Sum((-1)**n / (n+1), (n,1,smp.oo)).doit()"
   ]
  },
  {
   "cell_type": "code",
   "execution_count": 17,
   "metadata": {},
   "outputs": [
    {
     "data": {
      "text/latex": [
       "$\\displaystyle -0.306852819440055$"
      ],
      "text/plain": [
       "-0.306852819440055"
      ]
     },
     "execution_count": 17,
     "metadata": {},
     "output_type": "execute_result"
    }
   ],
   "source": [
    "smp.Sum((-1)**n / (n+1), (n,1,smp.oo)).n()"
   ]
  },
  {
   "cell_type": "code",
   "execution_count": 18,
   "metadata": {},
   "outputs": [
    {
     "data": {
      "text/latex": [
       "$\\displaystyle \\text{True}$"
      ],
      "text/plain": [
       "True"
      ]
     },
     "execution_count": 18,
     "metadata": {},
     "output_type": "execute_result"
    }
   ],
   "source": [
    "smp.Sum((-1)**n / (n+1), (n,1,smp.oo)).is_convergent()"
   ]
  },
  {
   "cell_type": "markdown",
   "metadata": {},
   "source": [
    "5. $$\\sum_{n=1}^{\\infty}\\frac{(n!)^2}{(2n)!}$$"
   ]
  },
  {
   "cell_type": "code",
   "execution_count": 19,
   "metadata": {},
   "outputs": [
    {
     "data": {
      "text/latex": [
       "$\\displaystyle \\frac{1}{3} + \\frac{2 \\sqrt{3} \\pi}{27}$"
      ],
      "text/plain": [
       "1/3 + 2*sqrt(3)*pi/27"
      ]
     },
     "execution_count": 19,
     "metadata": {},
     "output_type": "execute_result"
    }
   ],
   "source": [
    "smp.Sum((smp.factorial(n)**2) / (smp.factorial(2*n)),(n,1,smp.oo)).doit()"
   ]
  },
  {
   "cell_type": "code",
   "execution_count": 20,
   "metadata": {},
   "outputs": [
    {
     "data": {
      "text/latex": [
       "$\\displaystyle 0.736399858718715$"
      ],
      "text/plain": [
       "0.736399858718715"
      ]
     },
     "execution_count": 20,
     "metadata": {},
     "output_type": "execute_result"
    }
   ],
   "source": [
    "smp.Sum((smp.factorial(n)**2) / (smp.factorial(2*n)),(n,1,smp.oo)).n()"
   ]
  },
  {
   "cell_type": "code",
   "execution_count": 21,
   "metadata": {},
   "outputs": [
    {
     "data": {
      "text/latex": [
       "$\\displaystyle \\text{True}$"
      ],
      "text/plain": [
       "True"
      ]
     },
     "execution_count": 21,
     "metadata": {},
     "output_type": "execute_result"
    }
   ],
   "source": [
    "smp.Sum((smp.factorial(n)**2) / (smp.factorial(2*n)),(n,1,smp.oo)).is_convergent()"
   ]
  },
  {
   "cell_type": "markdown",
   "metadata": {},
   "source": [
    "6. $$\\sum_{n=1}^{\\infty}\\left( -2n \\right)^2$$"
   ]
  },
  {
   "cell_type": "code",
   "execution_count": 22,
   "metadata": {},
   "outputs": [
    {
     "data": {
      "text/latex": [
       "$\\displaystyle \\infty$"
      ],
      "text/plain": [
       "oo"
      ]
     },
     "execution_count": 22,
     "metadata": {},
     "output_type": "execute_result"
    }
   ],
   "source": [
    "smp.Sum((-2*n)**2,(n,1,smp.oo)).doit()"
   ]
  },
  {
   "cell_type": "code",
   "execution_count": 23,
   "metadata": {},
   "outputs": [
    {
     "ename": "ValueError",
     "evalue": "Sum diverges like n^2",
     "output_type": "error",
     "traceback": [
      "\u001b[1;31m---------------------------------------------------------------------------\u001b[0m",
      "\u001b[1;31mValueError\u001b[0m                                Traceback (most recent call last)",
      "\u001b[1;32mc:\\py\\fismat1\\task1\\fismat\\ict1.ipynb Cell 25'\u001b[0m in \u001b[0;36m<module>\u001b[1;34m\u001b[0m\n\u001b[1;32m----> <a href='vscode-notebook-cell:/c%3A/py/fismat1/task1/fismat/ict1.ipynb#ch0000024?line=0'>1</a>\u001b[0m smp\u001b[39m.\u001b[39;49mSum((\u001b[39m-\u001b[39;49m\u001b[39m2\u001b[39;49m\u001b[39m*\u001b[39;49mn)\u001b[39m*\u001b[39;49m\u001b[39m*\u001b[39;49m\u001b[39m2\u001b[39;49m,(n,\u001b[39m1\u001b[39;49m,smp\u001b[39m.\u001b[39;49moo))\u001b[39m.\u001b[39;49mn()\n",
      "File \u001b[1;32m~\\AppData\\Local\\Programs\\Python\\Python310\\lib\\site-packages\\sympy\\core\\evalf.py:1514\u001b[0m, in \u001b[0;36mEvalfMixin.evalf\u001b[1;34m(self, n, subs, maxn, chop, strict, quad, verbose)\u001b[0m\n\u001b[0;32m   <a href='file:///c%3A/Users/User/AppData/Local/Programs/Python/Python310/lib/site-packages/sympy/core/evalf.py?line=1511'>1512</a>\u001b[0m     options[\u001b[39m'\u001b[39m\u001b[39mquad\u001b[39m\u001b[39m'\u001b[39m] \u001b[39m=\u001b[39m quad\n\u001b[0;32m   <a href='file:///c%3A/Users/User/AppData/Local/Programs/Python/Python310/lib/site-packages/sympy/core/evalf.py?line=1512'>1513</a>\u001b[0m \u001b[39mtry\u001b[39;00m:\n\u001b[1;32m-> <a href='file:///c%3A/Users/User/AppData/Local/Programs/Python/Python310/lib/site-packages/sympy/core/evalf.py?line=1513'>1514</a>\u001b[0m     result \u001b[39m=\u001b[39m evalf(\u001b[39mself\u001b[39;49m, prec \u001b[39m+\u001b[39;49m \u001b[39m4\u001b[39;49m, options)\n\u001b[0;32m   <a href='file:///c%3A/Users/User/AppData/Local/Programs/Python/Python310/lib/site-packages/sympy/core/evalf.py?line=1514'>1515</a>\u001b[0m \u001b[39mexcept\u001b[39;00m \u001b[39mNotImplementedError\u001b[39;00m:\n\u001b[0;32m   <a href='file:///c%3A/Users/User/AppData/Local/Programs/Python/Python310/lib/site-packages/sympy/core/evalf.py?line=1515'>1516</a>\u001b[0m     \u001b[39m# Fall back to the ordinary evalf\u001b[39;00m\n\u001b[0;32m   <a href='file:///c%3A/Users/User/AppData/Local/Programs/Python/Python310/lib/site-packages/sympy/core/evalf.py?line=1516'>1517</a>\u001b[0m     \u001b[39mif\u001b[39;00m \u001b[39mhasattr\u001b[39m(\u001b[39mself\u001b[39m, \u001b[39m'\u001b[39m\u001b[39msubs\u001b[39m\u001b[39m'\u001b[39m) \u001b[39mand\u001b[39;00m subs \u001b[39mis\u001b[39;00m \u001b[39mnot\u001b[39;00m \u001b[39mNone\u001b[39;00m:  \u001b[39m# issue 20291\u001b[39;00m\n",
      "File \u001b[1;32m~\\AppData\\Local\\Programs\\Python\\Python310\\lib\\site-packages\\sympy\\core\\evalf.py:1366\u001b[0m, in \u001b[0;36mevalf\u001b[1;34m(x, prec, options)\u001b[0m\n\u001b[0;32m   <a href='file:///c%3A/Users/User/AppData/Local/Programs/Python/Python310/lib/site-packages/sympy/core/evalf.py?line=1363'>1364</a>\u001b[0m \u001b[39mtry\u001b[39;00m:\n\u001b[0;32m   <a href='file:///c%3A/Users/User/AppData/Local/Programs/Python/Python310/lib/site-packages/sympy/core/evalf.py?line=1364'>1365</a>\u001b[0m     rf \u001b[39m=\u001b[39m evalf_table[x\u001b[39m.\u001b[39mfunc]\n\u001b[1;32m-> <a href='file:///c%3A/Users/User/AppData/Local/Programs/Python/Python310/lib/site-packages/sympy/core/evalf.py?line=1365'>1366</a>\u001b[0m     r \u001b[39m=\u001b[39m rf(x, prec, options)\n\u001b[0;32m   <a href='file:///c%3A/Users/User/AppData/Local/Programs/Python/Python310/lib/site-packages/sympy/core/evalf.py?line=1366'>1367</a>\u001b[0m \u001b[39mexcept\u001b[39;00m \u001b[39mKeyError\u001b[39;00m:\n\u001b[0;32m   <a href='file:///c%3A/Users/User/AppData/Local/Programs/Python/Python310/lib/site-packages/sympy/core/evalf.py?line=1367'>1368</a>\u001b[0m     \u001b[39m# Fall back to ordinary evalf if possible\u001b[39;00m\n\u001b[0;32m   <a href='file:///c%3A/Users/User/AppData/Local/Programs/Python/Python310/lib/site-packages/sympy/core/evalf.py?line=1368'>1369</a>\u001b[0m     \u001b[39mif\u001b[39;00m \u001b[39m'\u001b[39m\u001b[39msubs\u001b[39m\u001b[39m'\u001b[39m \u001b[39min\u001b[39;00m options:\n",
      "File \u001b[1;32m~\\AppData\\Local\\Programs\\Python\\Python310\\lib\\site-packages\\sympy\\core\\evalf.py:1223\u001b[0m, in \u001b[0;36mevalf_sum\u001b[1;34m(expr, prec, options)\u001b[0m\n\u001b[0;32m   <a href='file:///c%3A/Users/User/AppData/Local/Programs/Python/Python310/lib/site-packages/sympy/core/evalf.py?line=1220'>1221</a>\u001b[0m     \u001b[39mraise\u001b[39;00m \u001b[39mNotImplementedError\u001b[39;00m\n\u001b[0;32m   <a href='file:///c%3A/Users/User/AppData/Local/Programs/Python/Python310/lib/site-packages/sympy/core/evalf.py?line=1221'>1222</a>\u001b[0m \u001b[39m# Use fast hypergeometric summation if possible\u001b[39;00m\n\u001b[1;32m-> <a href='file:///c%3A/Users/User/AppData/Local/Programs/Python/Python310/lib/site-packages/sympy/core/evalf.py?line=1222'>1223</a>\u001b[0m v \u001b[39m=\u001b[39m hypsum(func, n, \u001b[39mint\u001b[39;49m(a), prec2)\n\u001b[0;32m   <a href='file:///c%3A/Users/User/AppData/Local/Programs/Python/Python310/lib/site-packages/sympy/core/evalf.py?line=1223'>1224</a>\u001b[0m delta \u001b[39m=\u001b[39m prec \u001b[39m-\u001b[39m fastlog(v)\n\u001b[0;32m   <a href='file:///c%3A/Users/User/AppData/Local/Programs/Python/Python310/lib/site-packages/sympy/core/evalf.py?line=1224'>1225</a>\u001b[0m \u001b[39mif\u001b[39;00m fastlog(v) \u001b[39m<\u001b[39m \u001b[39m-\u001b[39m\u001b[39m10\u001b[39m:\n",
      "File \u001b[1;32m~\\AppData\\Local\\Programs\\Python\\Python310\\lib\\site-packages\\sympy\\core\\evalf.py:1169\u001b[0m, in \u001b[0;36mhypsum\u001b[1;34m(expr, n, start, prec)\u001b[0m\n\u001b[0;32m   <a href='file:///c%3A/Users/User/AppData/Local/Programs/Python/Python310/lib/site-packages/sympy/core/evalf.py?line=1166'>1167</a>\u001b[0m     \u001b[39mraise\u001b[39;00m \u001b[39mValueError\u001b[39;00m(\u001b[39m\"\u001b[39m\u001b[39mSum diverges like (\u001b[39m\u001b[39m%i\u001b[39;00m\u001b[39m)^n\u001b[39m\u001b[39m\"\u001b[39m \u001b[39m%\u001b[39m \u001b[39mabs\u001b[39m(\u001b[39m1\u001b[39m\u001b[39m/\u001b[39mg))\n\u001b[0;32m   <a href='file:///c%3A/Users/User/AppData/Local/Programs/Python/Python310/lib/site-packages/sympy/core/evalf.py?line=1167'>1168</a>\u001b[0m \u001b[39mif\u001b[39;00m p \u001b[39m<\u001b[39m \u001b[39m1\u001b[39m \u001b[39mor\u001b[39;00m (p \u001b[39m==\u001b[39m \u001b[39m1\u001b[39m \u001b[39mand\u001b[39;00m \u001b[39mnot\u001b[39;00m alt):\n\u001b[1;32m-> <a href='file:///c%3A/Users/User/AppData/Local/Programs/Python/Python310/lib/site-packages/sympy/core/evalf.py?line=1168'>1169</a>\u001b[0m     \u001b[39mraise\u001b[39;00m \u001b[39mValueError\u001b[39;00m(\u001b[39m\"\u001b[39m\u001b[39mSum diverges like n^\u001b[39m\u001b[39m%i\u001b[39;00m\u001b[39m\"\u001b[39m \u001b[39m%\u001b[39m (\u001b[39m-\u001b[39mp))\n\u001b[0;32m   <a href='file:///c%3A/Users/User/AppData/Local/Programs/Python/Python310/lib/site-packages/sympy/core/evalf.py?line=1169'>1170</a>\u001b[0m \u001b[39m# We have polynomial convergence: use Richardson extrapolation\u001b[39;00m\n\u001b[0;32m   <a href='file:///c%3A/Users/User/AppData/Local/Programs/Python/Python310/lib/site-packages/sympy/core/evalf.py?line=1170'>1171</a>\u001b[0m vold \u001b[39m=\u001b[39m \u001b[39mNone\u001b[39;00m\n",
      "\u001b[1;31mValueError\u001b[0m: Sum diverges like n^2"
     ]
    }
   ],
   "source": [
    "smp.Sum((-2*n)**2,(n,1,smp.oo)).n()"
   ]
  },
  {
   "cell_type": "code",
   "execution_count": null,
   "metadata": {},
   "outputs": [
    {
     "data": {
      "text/latex": [
       "$\\displaystyle \\text{False}$"
      ],
      "text/plain": [
       "False"
      ]
     },
     "execution_count": 20,
     "metadata": {},
     "output_type": "execute_result"
    }
   ],
   "source": [
    "smp.Sum((-2*n)**2,(n,1,smp.oo)).is_convergent()"
   ]
  },
  {
   "cell_type": "markdown",
   "metadata": {},
   "source": [
    "7. $$\\sum_{n=1}^{\\infty}\\frac{n^2}{n!}$$"
   ]
  },
  {
   "cell_type": "code",
   "execution_count": null,
   "metadata": {},
   "outputs": [
    {
     "data": {
      "text/latex": [
       "$\\displaystyle 2 e$"
      ],
      "text/plain": [
       "2*E"
      ]
     },
     "execution_count": 21,
     "metadata": {},
     "output_type": "execute_result"
    }
   ],
   "source": [
    "smp.Sum(n**2 / smp.factorial(n),(n,1,smp.oo)).doit()"
   ]
  },
  {
   "cell_type": "code",
   "execution_count": null,
   "metadata": {},
   "outputs": [
    {
     "data": {
      "text/latex": [
       "$\\displaystyle 5.43656365691809$"
      ],
      "text/plain": [
       "5.43656365691809"
      ]
     },
     "execution_count": 22,
     "metadata": {},
     "output_type": "execute_result"
    }
   ],
   "source": [
    "smp.Sum(n**2 / smp.factorial(n),(n,1,smp.oo)).n()"
   ]
  },
  {
   "cell_type": "code",
   "execution_count": null,
   "metadata": {},
   "outputs": [
    {
     "data": {
      "text/latex": [
       "$\\displaystyle \\text{True}$"
      ],
      "text/plain": [
       "True"
      ]
     },
     "execution_count": 23,
     "metadata": {},
     "output_type": "execute_result"
    }
   ],
   "source": [
    "smp.Sum(n**2 / smp.factorial(n),(n,1,smp.oo)).is_convergent()"
   ]
  },
  {
   "cell_type": "markdown",
   "metadata": {},
   "source": [
    "8. $$\\sum_{n=1}^{\\infty}\\frac{n}{(4n^2-1)^2}$$"
   ]
  },
  {
   "cell_type": "code",
   "execution_count": null,
   "metadata": {},
   "outputs": [
    {
     "data": {
      "text/latex": [
       "$\\displaystyle \\frac{1}{8}$"
      ],
      "text/plain": [
       "1/8"
      ]
     },
     "execution_count": 24,
     "metadata": {},
     "output_type": "execute_result"
    }
   ],
   "source": [
    "smp.Sum(n / (4*n**2-1)**2,(n,1,smp.oo)).doit()"
   ]
  },
  {
   "cell_type": "code",
   "execution_count": null,
   "metadata": {},
   "outputs": [
    {
     "data": {
      "text/latex": [
       "$\\displaystyle 0.125$"
      ],
      "text/plain": [
       "0.125000000000000"
      ]
     },
     "execution_count": 25,
     "metadata": {},
     "output_type": "execute_result"
    }
   ],
   "source": [
    "smp.Sum(n / (4*n**2-1)**2,(n,1,smp.oo)).n()"
   ]
  },
  {
   "cell_type": "code",
   "execution_count": null,
   "metadata": {},
   "outputs": [
    {
     "data": {
      "text/latex": [
       "$\\displaystyle \\text{True}$"
      ],
      "text/plain": [
       "True"
      ]
     },
     "execution_count": 26,
     "metadata": {},
     "output_type": "execute_result"
    }
   ],
   "source": [
    "smp.Sum(n / (4*n**2-1)**2,(n,1,smp.oo)).is_convergent()"
   ]
  },
  {
   "cell_type": "markdown",
   "metadata": {},
   "source": [
    "9. $$\\sum_{n=1}^{\\infty}\\frac{n(n+1)}{3^n}$$"
   ]
  },
  {
   "cell_type": "code",
   "execution_count": null,
   "metadata": {},
   "outputs": [
    {
     "data": {
      "text/latex": [
       "$\\displaystyle \\frac{9}{4}$"
      ],
      "text/plain": [
       "9/4"
      ]
     },
     "execution_count": 27,
     "metadata": {},
     "output_type": "execute_result"
    }
   ],
   "source": [
    "smp.Sum(n*(n+1) / (3**n),(n,1,smp.oo)).doit()"
   ]
  },
  {
   "cell_type": "code",
   "execution_count": null,
   "metadata": {},
   "outputs": [
    {
     "data": {
      "text/latex": [
       "$\\displaystyle 2.25$"
      ],
      "text/plain": [
       "2.25000000000000"
      ]
     },
     "execution_count": 28,
     "metadata": {},
     "output_type": "execute_result"
    }
   ],
   "source": [
    "smp.Sum(n*(n+1) / (3**n),(n,1,smp.oo)).n()"
   ]
  },
  {
   "cell_type": "code",
   "execution_count": null,
   "metadata": {},
   "outputs": [
    {
     "data": {
      "text/latex": [
       "$\\displaystyle \\text{True}$"
      ],
      "text/plain": [
       "True"
      ]
     },
     "execution_count": 29,
     "metadata": {},
     "output_type": "execute_result"
    }
   ],
   "source": [
    "smp.Sum(n*(n+1) / (3**n),(n,1,smp.oo)).is_convergent()"
   ]
  },
  {
   "cell_type": "markdown",
   "metadata": {},
   "source": [
    "10. $$\\sum_{n=1}^{\\infty}\\frac{n}{(n^2+1)^2}$$"
   ]
  },
  {
   "cell_type": "code",
   "execution_count": null,
   "metadata": {},
   "outputs": [
    {
     "data": {
      "text/latex": [
       "$\\displaystyle \\sum_{n=1}^{\\infty} \\frac{n}{\\left(n^{2} + 1\\right)^{2}}$"
      ],
      "text/plain": [
       "Sum(n/(n**2 + 1)**2, (n, 1, oo))"
      ]
     },
     "execution_count": 30,
     "metadata": {},
     "output_type": "execute_result"
    }
   ],
   "source": [
    "smp.Sum(n / (n**2+1)**2,(n,1,smp.oo)).doit()"
   ]
  },
  {
   "cell_type": "code",
   "execution_count": null,
   "metadata": {},
   "outputs": [
    {
     "data": {
      "text/latex": [
       "$\\displaystyle 0.397116771379659$"
      ],
      "text/plain": [
       "0.397116771379659"
      ]
     },
     "execution_count": 31,
     "metadata": {},
     "output_type": "execute_result"
    }
   ],
   "source": [
    "smp.Sum(n / (n**2+1)**2,(n,1,smp.oo)).n()"
   ]
  },
  {
   "cell_type": "code",
   "execution_count": null,
   "metadata": {},
   "outputs": [
    {
     "data": {
      "text/latex": [
       "$\\displaystyle \\text{True}$"
      ],
      "text/plain": [
       "True"
      ]
     },
     "execution_count": 32,
     "metadata": {},
     "output_type": "execute_result"
    }
   ],
   "source": [
    "smp.Sum(n / (n**2+1)**2,(n,1,smp.oo)).is_convergent()"
   ]
  }
 ],
 "metadata": {
  "interpreter": {
   "hash": "aecd030d4c8316a52bf122072e28f84bcc79844c2684e041fef2e3f1d9f59078"
  },
  "kernelspec": {
   "display_name": "Python 3.10.2 64-bit",
   "language": "python",
   "name": "python3"
  },
  "language_info": {
   "codemirror_mode": {
    "name": "ipython",
    "version": 3
   },
   "file_extension": ".py",
   "mimetype": "text/x-python",
   "name": "python",
   "nbconvert_exporter": "python",
   "pygments_lexer": "ipython3",
   "version": "3.10.2"
  },
  "orig_nbformat": 4
 },
 "nbformat": 4,
 "nbformat_minor": 2
}
