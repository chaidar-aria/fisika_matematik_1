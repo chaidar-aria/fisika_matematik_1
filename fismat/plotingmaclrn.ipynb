{
 "cells": [
  {
   "cell_type": "code",
   "execution_count": null,
   "metadata": {},
   "outputs": [],
   "source": [
    "import numpy as np\n",
    "import matplotlib.pyplot as plt\n",
    "import sympy as smp\n",
    "from numpy import *\n",
    "from matplotlib import *\n",
    "from sympy import *\n",
    "from mpmath import *\n",
    "plt.style.use('classic')"
   ]
  },
  {
   "cell_type": "markdown",
   "metadata": {},
   "source": [
    "1"
   ]
  },
  {
   "cell_type": "code",
   "execution_count": null,
   "metadata": {},
   "outputs": [],
   "source": [
    "x = np.linspace(-np.pi, np.pi, 200)\n",
    "y = np.zeros(len(x))\n",
    "labels = ['S1', 'S2', 'S3', 'S4']\n",
    "plt.figure()\n",
    "for n, label in zip(range(4), labels):\n",
    "    y += (x**2*np.log(1-x))\n",
    "    plt.plot(x, y, label=label)\n",
    "plt.plot(x, np.cos(x), 'k', label='Analytic')\n",
    "plt.grid()\n",
    "plt.title('Grafik deret maclaurin')\n",
    "plt.xlabel('x')\n",
    "plt.ylabel('y')\n",
    "plt.legend(loc='upper right', prop={'size': 10})\n",
    "plt.show()\n"
   ]
  },
  {
   "cell_type": "markdown",
   "metadata": {},
   "source": [
    "2"
   ]
  },
  {
   "cell_type": "code",
   "execution_count": null,
   "metadata": {},
   "outputs": [],
   "source": [
    "x = np.linspace(-np.pi, np.pi, 200)\n",
    "y = np.zeros(len(x))\n",
    "labels = ['S1', 'S2', 'S3', 'S4']\n",
    "plt.figure()\n",
    "for n, label in zip(range(4), labels):\n",
    "    y += (x*np.sqrt(1+x))\n",
    "    plt.plot(x, y, label=label)\n",
    "plt.plot(x, np.cos(x), 'k', label='Analytic')\n",
    "plt.grid()\n",
    "plt.title('Grafik deret maclaurin')\n",
    "plt.xlabel('x')\n",
    "plt.ylabel('y')\n",
    "plt.legend(loc='upper right', prop={'size': 10})\n",
    "plt.show()\n"
   ]
  },
  {
   "cell_type": "markdown",
   "metadata": {},
   "source": [
    "3"
   ]
  },
  {
   "cell_type": "code",
   "execution_count": null,
   "metadata": {},
   "outputs": [],
   "source": [
    "x = np.linspace(-np.pi, np.pi, 200)\n",
    "y = np.zeros(len(x))\n",
    "labels = ['S1', 'S2', 'S3', 'S4']\n",
    "plt.figure()\n",
    "for n, label in zip(range(4), labels):\n",
    "    y += (1/x*np.sin(x))\n",
    "    plt.plot(x, y, label=label)\n",
    "plt.plot(x, np.cos(x), 'k', label='Analytic')\n",
    "plt.grid()\n",
    "plt.title('Grafik deret maclaurin')\n",
    "plt.xlabel('x')\n",
    "plt.ylabel('y')\n",
    "plt.legend(loc='upper right', prop={'size': 10})\n",
    "plt.show()\n"
   ]
  },
  {
   "cell_type": "markdown",
   "metadata": {},
   "source": [
    "4"
   ]
  },
  {
   "cell_type": "code",
   "execution_count": null,
   "metadata": {},
   "outputs": [],
   "source": [
    "x = np.linspace(-np.pi, np.pi, 200)\n",
    "y = np.zeros(len(x))\n",
    "labels = ['S1', 'S2', 'S3', 'S4']\n",
    "plt.figure()\n",
    "for n, label in zip(range(4), labels):\n",
    "    y += (1/np.sqrt(1-x**2))\n",
    "    plt.plot(x, y, label=label)\n",
    "plt.plot(x, np.cos(x), 'k', label='Analytic')\n",
    "plt.grid()\n",
    "plt.title('Grafik deret maclaurin')\n",
    "plt.xlabel('x')\n",
    "plt.ylabel('y')\n",
    "plt.legend(loc='upper right', prop={'size': 10})\n",
    "plt.show()\n"
   ]
  },
  {
   "cell_type": "markdown",
   "metadata": {},
   "source": [
    "5"
   ]
  },
  {
   "cell_type": "code",
   "execution_count": null,
   "metadata": {},
   "outputs": [],
   "source": [
    "x = np.linspace(-np.pi, np.pi, 200)\n",
    "y = np.zeros(len(x))\n",
    "labels = ['S1', 'S2', 'S3', 'S4']\n",
    "plt.figure()\n",
    "for n, label in zip(range(4), labels):\n",
    "    y += (1+x / 1-x)\n",
    "    plt.plot(x, y, label=label)\n",
    "plt.plot(x, np.cos(x), 'k', label='Analytic')\n",
    "plt.grid()\n",
    "plt.title('Grafik deret maclaurin')\n",
    "plt.xlabel('x')\n",
    "plt.ylabel('y')\n",
    "plt.legend(loc='upper right', prop={'size': 10})\n",
    "plt.show()\n"
   ]
  },
  {
   "cell_type": "markdown",
   "metadata": {},
   "source": [
    "6"
   ]
  },
  {
   "cell_type": "code",
   "execution_count": null,
   "metadata": {},
   "outputs": [],
   "source": [
    "x = np.linspace(-np.pi, np.pi, 200)\n",
    "y = np.zeros(len(x))\n",
    "labels = ['S1', 'S2', 'S3', 'S4']\n",
    "plt.figure()\n",
    "for n, label in zip(range(4), labels):\n",
    "    y += (np.sin(x**2))\n",
    "    plt.plot(x, y, label=label)\n",
    "plt.plot(x, np.cos(x), 'k', label='Analytic')\n",
    "plt.grid()\n",
    "plt.title('Grafik deret maclaurin')\n",
    "plt.xlabel('x')\n",
    "plt.ylabel('y')\n",
    "plt.legend(loc='upper right', prop={'size': 10})\n",
    "plt.show()\n"
   ]
  },
  {
   "cell_type": "markdown",
   "metadata": {},
   "source": [
    "7"
   ]
  },
  {
   "cell_type": "code",
   "execution_count": null,
   "metadata": {},
   "outputs": [],
   "source": [
    "x = np.linspace(-np.pi, np.pi, 200)\n",
    "y = np.zeros(len(x))\n",
    "labels = ['S1', 'S2', 'S3', 'S4']\n",
    "plt.figure()\n",
    "for n, label in zip(range(4), labels):\n",
    "    y += (np.exp(x)/1-x)\n",
    "    plt.plot(x, y, label=label)\n",
    "plt.plot(x, np.cos(x), 'k', label='Analytic')\n",
    "plt.grid()\n",
    "plt.title('Grafik deret maclaurin')\n",
    "plt.xlabel('x')\n",
    "plt.ylabel('y')\n",
    "plt.legend(loc='upper right', prop={'size': 10})\n",
    "plt.show()\n"
   ]
  },
  {
   "cell_type": "markdown",
   "metadata": {},
   "source": [
    "8"
   ]
  },
  {
   "cell_type": "code",
   "execution_count": null,
   "metadata": {},
   "outputs": [],
   "source": [
    "x = np.linspace(-np.pi, np.pi, 200)\n",
    "y = np.zeros(len(x))\n",
    "labels = ['S1', 'S2', 'S3', 'S4']\n",
    "plt.figure()\n",
    "for n, label in zip(range(4), labels):\n",
    "    y += (np.exp(x)*np.sin(x))\n",
    "    plt.plot(x, y, label=label)\n",
    "plt.plot(x, np.cos(x), 'k', label='Analytic')\n",
    "plt.grid()\n",
    "plt.title('Grafik deret maclaurin')\n",
    "plt.xlabel('x')\n",
    "plt.ylabel('y')\n",
    "plt.legend(loc='upper right', prop={'size': 10})\n",
    "plt.show()\n"
   ]
  },
  {
   "cell_type": "markdown",
   "metadata": {},
   "source": [
    "9"
   ]
  },
  {
   "cell_type": "code",
   "execution_count": null,
   "metadata": {},
   "outputs": [],
   "source": [
    "x = np.linspace(-np.pi, np.pi, 200)\n",
    "y = np.zeros(len(x))\n",
    "labels = ['S1', 'S2', 'S3', 'S4']\n",
    "plt.figure()\n",
    "for n, label in zip(range(4), labels):\n",
    "    y += (np.log(1+x / 1-x))\n",
    "    plt.plot(x, y, label=label)\n",
    "plt.plot(x, np.cos(x), 'k', label='Analytic')\n",
    "plt.grid()\n",
    "plt.title('Grafik deret maclaurin')\n",
    "plt.xlabel('x')\n",
    "plt.ylabel('y')\n",
    "plt.legend(loc='upper right', prop={'size': 10})\n",
    "plt.show()\n"
   ]
  },
  {
   "cell_type": "markdown",
   "metadata": {},
   "source": [
    "10"
   ]
  },
  {
   "cell_type": "code",
   "execution_count": null,
   "metadata": {},
   "outputs": [],
   "source": [
    "x = np.linspace(-np.pi, np.pi, 200)\n",
    "y = np.zeros(len(x))\n",
    "labels = ['S1', 'S2', 'S3', 'S4']\n",
    "plt.figure()\n",
    "for n, label in zip(range(4), labels):\n",
    "    y += (np.tan(x)**2)\n",
    "    plt.plot(x, y, label=label)\n",
    "plt.plot(x, np.cos(x), 'k', label='Analytic')\n",
    "plt.grid()\n",
    "plt.title('Grafik deret maclaurin')\n",
    "plt.xlabel('x')\n",
    "plt.ylabel('y')\n",
    "plt.legend(loc='upper right', prop={'size': 10})\n",
    "plt.show()\n"
   ]
  },
  {
   "cell_type": "code",
   "execution_count": 1,
   "metadata": {},
   "outputs": [],
   "source": [
    "import sympy as sp\n",
    "from sympy import *"
   ]
  },
  {
   "cell_type": "code",
   "execution_count": 4,
   "metadata": {},
   "outputs": [],
   "source": [
    "x,n= sp.symbols('x n')"
   ]
  },
  {
   "cell_type": "code",
   "execution_count": 12,
   "metadata": {},
   "outputs": [
    {
     "data": {
      "text/latex": [
       "$\\displaystyle \\sum_{n=1}^{\\infty} \\frac{n}{\\left(n^{2} + 1\\right)^{2}}$"
      ],
      "text/plain": [
       "Sum(n/(n**2 + 1)**2, (n, 1, oo))"
      ]
     },
     "execution_count": 12,
     "metadata": {},
     "output_type": "execute_result"
    }
   ],
   "source": [
    "sp.Sum(n / (n**2+1)**2,(n,1,sp.oo)).doit()"
   ]
  },
  {
   "cell_type": "code",
   "execution_count": 10,
   "metadata": {},
   "outputs": [
    {
     "data": {
      "text/latex": [
       "$\\displaystyle 0.397116771379659$"
      ],
      "text/plain": [
       "0.397116771379659"
      ]
     },
     "execution_count": 10,
     "metadata": {},
     "output_type": "execute_result"
    }
   ],
   "source": [
    "sp.Sum(n / (n**2+1)**2,(n,1,sp.oo)).n()"
   ]
  },
  {
   "cell_type": "code",
   "execution_count": 14,
   "metadata": {},
   "outputs": [
    {
     "data": {
      "text/latex": [
       "$\\displaystyle \\text{True}$"
      ],
      "text/plain": [
       "True"
      ]
     },
     "execution_count": 14,
     "metadata": {},
     "output_type": "execute_result"
    }
   ],
   "source": [
    "sp.Sum(n / (n**2+1)**2,(n,1,sp.oo)).is_absolutely_convergent()"
   ]
  },
  {
   "cell_type": "code",
   "execution_count": null,
   "metadata": {},
   "outputs": [],
   "source": []
  }
 ],
 "metadata": {
  "interpreter": {
   "hash": "aecd030d4c8316a52bf122072e28f84bcc79844c2684e041fef2e3f1d9f59078"
  },
  "kernelspec": {
   "display_name": "Python 3.10.2 64-bit",
   "language": "python",
   "name": "python3"
  },
  "language_info": {
   "codemirror_mode": {
    "name": "ipython",
    "version": 3
   },
   "file_extension": ".py",
   "mimetype": "text/x-python",
   "name": "python",
   "nbconvert_exporter": "python",
   "pygments_lexer": "ipython3",
   "version": "3.10.2"
  },
  "orig_nbformat": 4
 },
 "nbformat": 4,
 "nbformat_minor": 2
}
