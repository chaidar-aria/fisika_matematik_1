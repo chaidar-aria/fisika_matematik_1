{
 "cells": [
  {
   "cell_type": "markdown",
   "metadata": {},
   "source": [
    "# INTEGRASI NUMERIK PYTHON\n",
    "\n",
    "Metode Numerik untuk Integral yang dijelaskan pada Tutorial Python ini adalah\n",
    "1. Metode Trapesium\n",
    "2. Metode Simpson\n",
    "3. Metode Gauss-Legendre 2 titik dan 3 titik"
   ]
  },
  {
   "cell_type": "code",
   "execution_count": 1,
   "metadata": {},
   "outputs": [],
   "source": [
    "%matplotlib inline\n",
    "import numpy as np\n",
    "from sympy import *\n",
    "import matplotlib.pyplot as plt\n",
    "import pandas as pd\n"
   ]
  },
  {
   "cell_type": "code",
   "execution_count": 2,
   "metadata": {},
   "outputs": [],
   "source": [
    "x = symbols('x')"
   ]
  },
  {
   "cell_type": "markdown",
   "metadata": {},
   "source": [
    "Contoh integral:\n",
    "$$ \\int_{a}^{b}f(x)dx $$"
   ]
  },
  {
   "cell_type": "code",
   "execution_count": 3,
   "metadata": {},
   "outputs": [],
   "source": [
    "# Definisi fungsi yang diintegralkan\n",
    "f = x**3 - x"
   ]
  },
  {
   "cell_type": "code",
   "execution_count": 4,
   "metadata": {},
   "outputs": [],
   "source": [
    "# Batas integral\n",
    "a = 0\n",
    "b = 2"
   ]
  },
  {
   "cell_type": "code",
   "execution_count": 5,
   "metadata": {},
   "outputs": [],
   "source": [
    "# Ubah persamaan ke Sympy dengan fungsi python\n",
    "ff = lambdify(x,f)"
   ]
  },
  {
   "cell_type": "code",
   "execution_count": 6,
   "metadata": {},
   "outputs": [],
   "source": [
    "# buat data sebanyak n+1\n",
    "# dari x = a ... b\n",
    "n=10\n",
    "xd = np.linspace(a,b,n+1)\n",
    "fd = ff(xd)\n",
    "dx = xd[1]-xd[0]"
   ]
  },
  {
   "cell_type": "code",
   "execution_count": 7,
   "metadata": {},
   "outputs": [
    {
     "data": {
      "text/html": [
       "<div>\n",
       "<style scoped>\n",
       "    .dataframe tbody tr th:only-of-type {\n",
       "        vertical-align: middle;\n",
       "    }\n",
       "\n",
       "    .dataframe tbody tr th {\n",
       "        vertical-align: top;\n",
       "    }\n",
       "\n",
       "    .dataframe thead th {\n",
       "        text-align: right;\n",
       "    }\n",
       "</style>\n",
       "<table border=\"1\" class=\"dataframe\">\n",
       "  <thead>\n",
       "    <tr style=\"text-align: right;\">\n",
       "      <th></th>\n",
       "      <th>x</th>\n",
       "      <th>f(X)</th>\n",
       "    </tr>\n",
       "  </thead>\n",
       "  <tbody>\n",
       "    <tr>\n",
       "      <th>0</th>\n",
       "      <td>0.0</td>\n",
       "      <td>0.000</td>\n",
       "    </tr>\n",
       "    <tr>\n",
       "      <th>1</th>\n",
       "      <td>0.2</td>\n",
       "      <td>-0.192</td>\n",
       "    </tr>\n",
       "    <tr>\n",
       "      <th>2</th>\n",
       "      <td>0.4</td>\n",
       "      <td>-0.336</td>\n",
       "    </tr>\n",
       "    <tr>\n",
       "      <th>3</th>\n",
       "      <td>0.6</td>\n",
       "      <td>-0.384</td>\n",
       "    </tr>\n",
       "    <tr>\n",
       "      <th>4</th>\n",
       "      <td>0.8</td>\n",
       "      <td>-0.288</td>\n",
       "    </tr>\n",
       "    <tr>\n",
       "      <th>5</th>\n",
       "      <td>1.0</td>\n",
       "      <td>0.000</td>\n",
       "    </tr>\n",
       "    <tr>\n",
       "      <th>6</th>\n",
       "      <td>1.2</td>\n",
       "      <td>0.528</td>\n",
       "    </tr>\n",
       "    <tr>\n",
       "      <th>7</th>\n",
       "      <td>1.4</td>\n",
       "      <td>1.344</td>\n",
       "    </tr>\n",
       "    <tr>\n",
       "      <th>8</th>\n",
       "      <td>1.6</td>\n",
       "      <td>2.496</td>\n",
       "    </tr>\n",
       "    <tr>\n",
       "      <th>9</th>\n",
       "      <td>1.8</td>\n",
       "      <td>4.032</td>\n",
       "    </tr>\n",
       "    <tr>\n",
       "      <th>10</th>\n",
       "      <td>2.0</td>\n",
       "      <td>6.000</td>\n",
       "    </tr>\n",
       "  </tbody>\n",
       "</table>\n",
       "</div>"
      ],
      "text/plain": [
       "      x   f(X)\n",
       "0   0.0  0.000\n",
       "1   0.2 -0.192\n",
       "2   0.4 -0.336\n",
       "3   0.6 -0.384\n",
       "4   0.8 -0.288\n",
       "5   1.0  0.000\n",
       "6   1.2  0.528\n",
       "7   1.4  1.344\n",
       "8   1.6  2.496\n",
       "9   1.8  4.032\n",
       "10  2.0  6.000"
      ]
     },
     "execution_count": 7,
     "metadata": {},
     "output_type": "execute_result"
    }
   ],
   "source": [
    "# Buat pandas data frame untuk tampilan berbentuk tabel\n",
    "data = {'x':xd, 'f(X)': fd}\n",
    "df = pd.DataFrame(data)\n",
    "df"
   ]
  },
  {
   "cell_type": "markdown",
   "metadata": {},
   "source": [
    "## METODE EKSAK"
   ]
  },
  {
   "cell_type": "code",
   "execution_count": 8,
   "metadata": {},
   "outputs": [
    {
     "data": {
      "text/latex": [
       "$\\displaystyle 2$"
      ],
      "text/plain": [
       "2"
      ]
     },
     "execution_count": 8,
     "metadata": {},
     "output_type": "execute_result"
    }
   ],
   "source": [
    "ieksak = integrate(f,(x,a,b))\n",
    "ieksak\n"
   ]
  },
  {
   "cell_type": "markdown",
   "metadata": {},
   "source": [
    "## METODE TRAPESIUM"
   ]
  },
  {
   "cell_type": "code",
   "execution_count": 9,
   "metadata": {},
   "outputs": [
    {
     "data": {
      "text/plain": [
       "2.0400000000000005"
      ]
     },
     "execution_count": 9,
     "metadata": {},
     "output_type": "execute_result"
    }
   ],
   "source": [
    "s = 0\n",
    "for i in range(1,n):\n",
    "    s += fd[i]\n",
    "itrap = (dx/2)*(fd[0] + 2*s + fd[n])\n",
    "itrap"
   ]
  },
  {
   "cell_type": "code",
   "execution_count": 10,
   "metadata": {},
   "outputs": [
    {
     "data": {
      "text/latex": [
       "$\\displaystyle 0.0200000000000002$"
      ],
      "text/plain": [
       "0.0200000000000002"
      ]
     },
     "execution_count": 10,
     "metadata": {},
     "output_type": "execute_result"
    }
   ],
   "source": [
    "# Galat relatif\n",
    "errtrap = (itrap - ieksak)/ieksak\n",
    "errtrap"
   ]
  },
  {
   "cell_type": "markdown",
   "metadata": {},
   "source": [
    "## METODE SIMPSON"
   ]
  },
  {
   "cell_type": "code",
   "execution_count": 11,
   "metadata": {},
   "outputs": [
    {
     "data": {
      "text/plain": [
       "2.000000000000001"
      ]
     },
     "execution_count": 11,
     "metadata": {},
     "output_type": "execute_result"
    }
   ],
   "source": [
    "s1 = 0\n",
    "s2 = 0\n",
    "for i in range(1,n,2):\n",
    "    s1 += fd[i]\n",
    "for i in range(2,n-1,2):\n",
    "    s2 += fd[i]\n",
    "\n",
    "isimp = (dx/3) * (fd[0] + 4*s1 + 2*s2 + fd[n])\n",
    "isimp"
   ]
  },
  {
   "cell_type": "code",
   "execution_count": 12,
   "metadata": {},
   "outputs": [
    {
     "data": {
      "text/latex": [
       "$\\displaystyle 4.44089209850063 \\cdot 10^{-16}$"
      ],
      "text/plain": [
       "4.44089209850063e-16"
      ]
     },
     "execution_count": 12,
     "metadata": {},
     "output_type": "execute_result"
    }
   ],
   "source": [
    "# Galat relatif\n",
    "errsimp = (isimp - ieksak)/ieksak\n",
    "errsimp"
   ]
  },
  {
   "cell_type": "markdown",
   "metadata": {},
   "source": [
    "## METODE GAUSS LAGENDRE\n",
    "\n",
    "Langkah pertama adalah ubah bentuk integrak menjadi\n",
    "\n",
    "$$ \\int_{a}^{b} f(x)dx = \\frac{(b-a)}{2} \\int_{-1}^{1}g(y)dy $$\n",
    "\n",
    "dengan\n",
    "\n",
    "$$ g(y) = f \\left ( \\frac{a+b}{2} + \\frac{b-a}{2}y \\right )$$\n",
    "\n",
    "Langkah kedua adalah gunakan bobot $ w_i $ dan posisi\n",
    "\n",
    "$$ \\int_{-1}^{1} g(y)dy = \\sum_{i=1}^{N} w_i g (y_i) $$\n",
    "\n",
    "Nilai posisi (Nodes) dan Bobot diberikan pada tabel berikut ini"
   ]
  },
  {
   "cell_type": "code",
   "execution_count": 13,
   "metadata": {},
   "outputs": [],
   "source": [
    "y = symbols('y')"
   ]
  },
  {
   "cell_type": "code",
   "execution_count": 14,
   "metadata": {},
   "outputs": [
    {
     "data": {
      "text/latex": [
       "$\\displaystyle - \\frac{y}{2} + \\left(\\frac{y}{2} + 1.0\\right)^{3} - 1.0$"
      ],
      "text/plain": [
       "-y/2 + (y/2 + 1.0)**3 - 1.0"
      ]
     },
     "execution_count": 14,
     "metadata": {},
     "output_type": "execute_result"
    }
   ],
   "source": [
    "# Substitusi variabel x dengan (a+b).2 + (b-a)y/2\n",
    "\n",
    "g = f.subs(x, (a+b)/2 + (b-1)*y/2)\n",
    "g"
   ]
  },
  {
   "cell_type": "code",
   "execution_count": 15,
   "metadata": {},
   "outputs": [],
   "source": [
    "# Ubah ke persamaan Sympy ke fungsi python\n",
    "gg = lambdify(y,g)"
   ]
  },
  {
   "cell_type": "code",
   "execution_count": 16,
   "metadata": {},
   "outputs": [
    {
     "data": {
      "text/plain": [
       "0.5000000000000001"
      ]
     },
     "execution_count": 16,
     "metadata": {},
     "output_type": "execute_result"
    }
   ],
   "source": [
    "w1 = 1.0\n",
    "w2 = 1.0\n",
    "x1 = -1/np.sqrt(3)\n",
    "x2 = 1/np.sqrt(3)\n",
    "igl2 = ((b-a)/2) * (w1*gg(x1) + w2*gg(x2))\n",
    "igl2"
   ]
  },
  {
   "cell_type": "code",
   "execution_count": 17,
   "metadata": {},
   "outputs": [
    {
     "data": {
      "text/latex": [
       "$\\displaystyle -0.75$"
      ],
      "text/plain": [
       "-0.750000000000000"
      ]
     },
     "execution_count": 17,
     "metadata": {},
     "output_type": "execute_result"
    }
   ],
   "source": [
    "errgl2 = (igl2 - ieksak)/ieksak\n",
    "errgl2"
   ]
  },
  {
   "cell_type": "code",
   "execution_count": 18,
   "metadata": {},
   "outputs": [
    {
     "data": {
      "text/plain": [
       "0.5000000000000002"
      ]
     },
     "execution_count": 18,
     "metadata": {},
     "output_type": "execute_result"
    }
   ],
   "source": [
    "# Menggunakan Gauss-Legendre 2 titik\n",
    "w1 = 5/9\n",
    "w2 = 8/9\n",
    "w3 = 5/9\n",
    "x1 = -np.sqrt(3/5)\n",
    "x2 = 0\n",
    "x3 = np.sqrt(3/5)\n",
    "igl3 = ((b-a)/2) * (w1*gg(x1) + w2*gg(x2) + w3*gg(x3)) \n",
    "igl3"
   ]
  },
  {
   "cell_type": "code",
   "execution_count": 19,
   "metadata": {},
   "outputs": [
    {
     "data": {
      "text/latex": [
       "$\\displaystyle -0.75$"
      ],
      "text/plain": [
       "-0.750000000000000"
      ]
     },
     "execution_count": 19,
     "metadata": {},
     "output_type": "execute_result"
    }
   ],
   "source": [
    "errgl3 = (igl3 - ieksak)/ieksak\n",
    "errgl3\n"
   ]
  }
 ],
 "metadata": {
  "interpreter": {
   "hash": "aecd030d4c8316a52bf122072e28f84bcc79844c2684e041fef2e3f1d9f59078"
  },
  "kernelspec": {
   "display_name": "Python 3.10.2 64-bit",
   "language": "python",
   "name": "python3"
  },
  "language_info": {
   "codemirror_mode": {
    "name": "ipython",
    "version": 3
   },
   "file_extension": ".py",
   "mimetype": "text/x-python",
   "name": "python",
   "nbconvert_exporter": "python",
   "pygments_lexer": "ipython3",
   "version": "3.10.2"
  },
  "orig_nbformat": 4
 },
 "nbformat": 4,
 "nbformat_minor": 2
}
