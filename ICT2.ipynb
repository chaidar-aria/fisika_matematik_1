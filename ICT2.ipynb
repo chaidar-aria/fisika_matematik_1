{
 "cells": [
  {
   "cell_type": "markdown",
   "metadata": {},
   "source": [
    "# INI ADALAH FILE UNTUK BRANCH ICT 2 DI GITHUB FISIKA MATEMATIK"
   ]
  }
 ],
 "metadata": {
  "language_info": {
   "name": "python"
  },
  "orig_nbformat": 4
 },
 "nbformat": 4,
 "nbformat_minor": 2
}
