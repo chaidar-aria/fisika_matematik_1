{
 "cells": [
  {
   "cell_type": "code",
   "execution_count": 1,
   "metadata": {},
   "outputs": [],
   "source": [
    "import sympy as smp\n",
    "from sympy import *"
   ]
  },
  {
   "cell_type": "code",
   "execution_count": 7,
   "metadata": {},
   "outputs": [],
   "source": [
    "x,y,t = smp.symbols('x y t')"
   ]
  },
  {
   "cell_type": "markdown",
   "metadata": {},
   "source": [
    "TUGAS : ICT FISIKA MATEMATIKA 1\n",
    "\n",
    "PRODI : PENDIDIKAN FISIKA/FISIKA\n",
    "\n",
    "KELAS : PFB 2021, FRD 2021, FRE 2021\n",
    "\n",
    "BAB : TURUNAN PARSIAL"
   ]
  },
  {
   "cell_type": "markdown",
   "metadata": {},
   "source": [
    "1. $$xt^3-tx^3=6$$"
   ]
  },
  {
   "cell_type": "code",
   "execution_count": null,
   "metadata": {},
   "outputs": [],
   "source": [
    "x*t**3-t*x**3"
   ]
  },
  {
   "cell_type": "markdown",
   "metadata": {},
   "source": [
    "2. $$t^3-x^2t=8$$"
   ]
  },
  {
   "cell_type": "markdown",
   "metadata": {},
   "source": [
    "3. $$te^{xt}=\\sin{x}$$"
   ]
  },
  {
   "cell_type": "markdown",
   "metadata": {},
   "source": [
    "4. $$x^{2/3}+t^{3/2}=4$$"
   ]
  },
  {
   "cell_type": "markdown",
   "metadata": {},
   "source": [
    "5. $$x^2+t^3=xt+5$$"
   ]
  },
  {
   "cell_type": "markdown",
   "metadata": {},
   "source": [
    "6. $$xt^2-x^2t=10$$"
   ]
  },
  {
   "cell_type": "markdown",
   "metadata": {},
   "source": [
    "7. $$\\frac{x^2}{4}+\\frac{t^2}{9}=1$$"
   ]
  },
  {
   "cell_type": "markdown",
   "metadata": {},
   "source": [
    "8. $$x\\sin{t}=xe^t$$"
   ]
  },
  {
   "cell_type": "markdown",
   "metadata": {},
   "source": [
    "9. $$x+\\sin{xt-t}=0$$"
   ]
  },
  {
   "cell_type": "code",
   "execution_count": 14,
   "metadata": {},
   "outputs": [
    {
     "data": {
      "text/latex": [
       "$\\displaystyle t \\cos{\\left(t x - t \\right)} + 1$"
      ],
      "text/plain": [
       "t*cos(t*x - t) + 1"
      ]
     },
     "execution_count": 14,
     "metadata": {},
     "output_type": "execute_result"
    }
   ],
   "source": [
    "smp.diff(x+smp.sin(x*t-t),x)"
   ]
  },
  {
   "cell_type": "markdown",
   "metadata": {},
   "source": [
    "10. $$x^4+y^3-x^2y=0$$"
   ]
  },
  {
   "cell_type": "code",
   "execution_count": 31,
   "metadata": {},
   "outputs": [
    {
     "data": {
      "text/latex": [
       "$\\displaystyle 4 x^{3} - x^{2} \\cdot \\left(12 x^{2} - 2 y\\right) - 2 x \\left(4 x^{3} - 2 x y\\right) + \\left(36 x^{2} - 6 y\\right) \\left(4 x^{3} - 2 x y\\right)^{2}$"
      ],
      "text/plain": [
       "4*x**3 - x**2*(12*x**2 - 2*y) - 2*x*(4*x**3 - 2*x*y) + (36*x**2 - 6*y)*(4*x**3 - 2*x*y)**2"
      ]
     },
     "execution_count": 31,
     "metadata": {},
     "output_type": "execute_result"
    }
   ],
   "source": [
    "smp.diff(x**4+y**3-x**2*y,x)"
   ]
  },
  {
   "cell_type": "markdown",
   "metadata": {},
   "source": []
  },
  {
   "cell_type": "code",
   "execution_count": 22,
   "metadata": {},
   "outputs": [
    {
     "data": {
      "text/latex": [
       "$\\displaystyle 4 x^{3} - x^{2} \\cdot \\left(12 x^{2} - 2 y\\right) - 2 x \\left(4 x^{3} - 2 x y\\right) + \\left(36 x^{2} - 6 y\\right) \\left(4 x^{3} - 2 x y\\right)^{2}$"
      ],
      "text/plain": [
       "4*x**3 - x**2*(12*x**2 - 2*y) - 2*x*(4*x**3 - 2*x*y) + (36*x**2 - 6*y)*(4*x**3 - 2*x*y)**2"
      ]
     },
     "execution_count": 22,
     "metadata": {},
     "output_type": "execute_result"
    }
   ],
   "source": [
    "z"
   ]
  },
  {
   "cell_type": "code",
   "execution_count": 28,
   "metadata": {},
   "outputs": [
    {
     "ename": "ValueError",
     "evalue": "The same variable should be used in all univariate expressions being plotted.",
     "output_type": "error",
     "traceback": [
      "\u001b[1;31m---------------------------------------------------------------------------\u001b[0m",
      "\u001b[1;31mValueError\u001b[0m                                Traceback (most recent call last)",
      "\u001b[1;32mc:\\py\\fismat1\\task1\\fismat\\tugas2\\ICT2.ipynb Cell 18'\u001b[0m in \u001b[0;36m<module>\u001b[1;34m\u001b[0m\n\u001b[1;32m----> <a href='vscode-notebook-cell:/c%3A/py/fismat1/task1/fismat/tugas2/ICT2.ipynb#ch0000022?line=0'>1</a>\u001b[0m plot(z)\n",
      "File \u001b[1;32m~\\AppData\\Local\\Programs\\Python\\Python310\\lib\\site-packages\\sympy\\plotting\\plot.py:1842\u001b[0m, in \u001b[0;36mplot\u001b[1;34m(show, *args, **kwargs)\u001b[0m\n\u001b[0;32m   <a href='file:///c%3A/Users/User/AppData/Local/Programs/Python/Python310/lib/site-packages/sympy/plotting/plot.py?line=1839'>1840</a>\u001b[0m         free \u001b[39m|\u001b[39m\u001b[39m=\u001b[39m a\u001b[39m.\u001b[39mfree_symbols\n\u001b[0;32m   <a href='file:///c%3A/Users/User/AppData/Local/Programs/Python/Python310/lib/site-packages/sympy/plotting/plot.py?line=1840'>1841</a>\u001b[0m         \u001b[39mif\u001b[39;00m \u001b[39mlen\u001b[39m(free) \u001b[39m>\u001b[39m \u001b[39m1\u001b[39m:\n\u001b[1;32m-> <a href='file:///c%3A/Users/User/AppData/Local/Programs/Python/Python310/lib/site-packages/sympy/plotting/plot.py?line=1841'>1842</a>\u001b[0m             \u001b[39mraise\u001b[39;00m \u001b[39mValueError\u001b[39;00m(\n\u001b[0;32m   <a href='file:///c%3A/Users/User/AppData/Local/Programs/Python/Python310/lib/site-packages/sympy/plotting/plot.py?line=1842'>1843</a>\u001b[0m                 \u001b[39m'\u001b[39m\u001b[39mThe same variable should be used in all \u001b[39m\u001b[39m'\u001b[39m\n\u001b[0;32m   <a href='file:///c%3A/Users/User/AppData/Local/Programs/Python/Python310/lib/site-packages/sympy/plotting/plot.py?line=1843'>1844</a>\u001b[0m                 \u001b[39m'\u001b[39m\u001b[39munivariate expressions being plotted.\u001b[39m\u001b[39m'\u001b[39m)\n\u001b[0;32m   <a href='file:///c%3A/Users/User/AppData/Local/Programs/Python/Python310/lib/site-packages/sympy/plotting/plot.py?line=1844'>1845</a>\u001b[0m x \u001b[39m=\u001b[39m free\u001b[39m.\u001b[39mpop() \u001b[39mif\u001b[39;00m free \u001b[39melse\u001b[39;00m Symbol(\u001b[39m'\u001b[39m\u001b[39mx\u001b[39m\u001b[39m'\u001b[39m)\n\u001b[0;32m   <a href='file:///c%3A/Users/User/AppData/Local/Programs/Python/Python310/lib/site-packages/sympy/plotting/plot.py?line=1845'>1846</a>\u001b[0m kwargs\u001b[39m.\u001b[39msetdefault(\u001b[39m'\u001b[39m\u001b[39mxlabel\u001b[39m\u001b[39m'\u001b[39m, x\u001b[39m.\u001b[39mname)\n",
      "\u001b[1;31mValueError\u001b[0m: The same variable should be used in all univariate expressions being plotted."
     ]
    }
   ],
   "source": [
    "plot(z)"
   ]
  },
  {
   "cell_type": "markdown",
   "metadata": {},
   "source": []
  },
  {
   "cell_type": "code",
   "execution_count": 27,
   "metadata": {},
   "outputs": [
    {
     "data": {
      "text/plain": [
       "(x**2, (x, -5, 5))"
      ]
     },
     "execution_count": 27,
     "metadata": {},
     "output_type": "execute_result"
    }
   ],
   "source": [
    "x**2, (x, -5, 5)\n"
   ]
  },
  {
   "cell_type": "code",
   "execution_count": null,
   "metadata": {},
   "outputs": [],
   "source": []
  }
 ],
 "metadata": {
  "interpreter": {
   "hash": "aecd030d4c8316a52bf122072e28f84bcc79844c2684e041fef2e3f1d9f59078"
  },
  "kernelspec": {
   "display_name": "Python 3.10.2 64-bit",
   "language": "python",
   "name": "python3"
  },
  "language_info": {
   "codemirror_mode": {
    "name": "ipython",
    "version": 3
   },
   "file_extension": ".py",
   "mimetype": "text/x-python",
   "name": "python",
   "nbconvert_exporter": "python",
   "pygments_lexer": "ipython3",
   "version": "3.10.2"
  },
  "orig_nbformat": 4
 },
 "nbformat": 4,
 "nbformat_minor": 2
}
