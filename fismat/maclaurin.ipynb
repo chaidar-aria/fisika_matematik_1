{
 "cells": [
  {
   "cell_type": "markdown",
   "metadata": {},
   "source": [
    "# MACLAURIN SERIES"
   ]
  },
  {
   "cell_type": "markdown",
   "metadata": {},
   "source": [
    "$$f(x) = f(0) + f'(0)+\\frac{f''(0)}{2!}x^2+\\frac{f^{(3)}(0)}{3!}x^3+\\cdots+\\frac{f^{(n)}(0)}{n!}x^n+\\cdots$$"
   ]
  },
  {
   "cell_type": "markdown",
   "metadata": {},
   "source": [
    "$e^x$ using maclaurin"
   ]
  },
  {
   "cell_type": "markdown",
   "metadata": {},
   "source": [
    "$e^x = \\sum_{n=0}^{\\infty}\\frac{x^n}{n!}=1+x+\\frac{x^2}{2}+\\frac{x^3}{6}\\cdots$"
   ]
  },
  {
   "cell_type": "markdown",
   "metadata": {},
   "source": [
    "Step 1: Import libraries"
   ]
  },
  {
   "cell_type": "code",
   "execution_count": null,
   "metadata": {},
   "outputs": [],
   "source": [
    "import numpy as np\n",
    "import sympy as smp\n",
    "from math import *\n",
    "from sympy import *\n",
    "\n",
    "factorize = np.vectorize(factorial)"
   ]
  },
  {
   "cell_type": "markdown",
   "metadata": {},
   "source": [
    "Step 2: Define a new function $e^x$"
   ]
  },
  {
   "cell_type": "code",
   "execution_count": null,
   "metadata": {},
   "outputs": [],
   "source": [
    "x = smp.symbols('x')\n",
    "def e_x(x, terms=10):\n",
    "    n = np.arange(terms)\n",
    "    return np.sum(x**n/factorize(n))"
   ]
  },
  {
   "cell_type": "markdown",
   "metadata": {},
   "source": [
    "Step 3: check if the function is properly implemented"
   ]
  },
  {
   "cell_type": "code",
   "execution_count": null,
   "metadata": {},
   "outputs": [],
   "source": [
    "if __name__ == \"__main__\":\n",
    "    print(\"Actual:\", 1/x * smp.sin(x))\n",
    "\n",
    "    print(\"N (terms)\\tMaclaurin\\tError\")\n",
    "\n",
    "    for n in range(1,14):\n",
    "        maclaurin = e_x(2, terms=n)\n",
    "        print(f\"{n}\\t\\t{maclaurin:.05f}\")"
   ]
  },
  {
   "cell_type": "code",
   "execution_count": null,
   "metadata": {},
   "outputs": [],
   "source": [
    "import math\n",
    "import numpy as np\n",
    "from numpy import *\n",
    "import matplotlib.pyplot as plt\n",
    "\n",
    "x = 1\n",
    "maclaurin = 1/x*sin(x)\n",
    "for i in range(10):\n",
    "    maclaurin += x**i/math.factorial(i)"
   ]
  },
  {
   "cell_type": "code",
   "execution_count": null,
   "metadata": {},
   "outputs": [],
   "source": [
    "maclaurin"
   ]
  },
  {
   "cell_type": "code",
   "execution_count": null,
   "metadata": {},
   "outputs": [],
   "source": [
    "x = np.linspace(-np.pi, np.pi, 200)\n",
    "y = np.zeros(len(x))\n",
    "\n",
    "labels = ['First Order', 'Third Order', 'Fifth Order', 'Seventh Order']\n",
    "\n",
    "plt.figure(figsize=(10, 8))\n",
    "for n, label in zip(range(4), labels):\n",
    "    y = y + ((-1)**n * (x)**(2*n)) / np.math.factorial(2*n)\n",
    "    plt.plot(x, y, label=label)\n",
    "\n",
    "plt.plot(x, np.sin(x), 'k', label='Analytic')\n",
    "plt.grid()\n",
    "plt.title('Taylor Series Approximations of Various Orders')\n",
    "plt.xlabel('x')\n",
    "plt.ylabel('y')\n",
    "plt.legend()\n",
    "plt.show()\n"
   ]
  },
  {
   "cell_type": "code",
   "execution_count": null,
   "metadata": {},
   "outputs": [],
   "source": [
    "def myexp(x):\n",
    "    e = 0\n",
    "    for i in range (0,100):\n",
    "        e = e+(x**i)/math.factorial(i)\n",
    "    print(e)"
   ]
  },
  {
   "cell_type": "code",
   "execution_count": null,
   "metadata": {},
   "outputs": [],
   "source": []
  },
  {
   "cell_type": "code",
   "execution_count": null,
   "metadata": {},
   "outputs": [],
   "source": [
    "import sympy as smp\n",
    "from sympy import *"
   ]
  },
  {
   "cell_type": "markdown",
   "metadata": {},
   "source": [
    "$$f(x)=\\sum_{n=0}^{\\infty}\\frac{f^{(n)}(0)}{n!}x^n$$"
   ]
  },
  {
   "cell_type": "code",
   "execution_count": null,
   "metadata": {},
   "outputs": [],
   "source": [
    "for i in range(0,10):\n",
    "    mclrin = "
   ]
  },
  {
   "cell_type": "code",
   "execution_count": null,
   "metadata": {},
   "outputs": [],
   "source": [
    "import matplotlib.pyplot as plt\n",
    "import numpy as np\n",
    "from mpmath import*\n",
    "#Pendekatan jumlahan deret tak hingga\n",
    "print('jumlahan deret')\n",
    "mp.dps = 15\n",
    "mp.pretty = True\n",
    "def y(n): return n/(n+4)\n",
    "\n",
    "\n",
    "sum = nsum(y, [1, inf])\n",
    "print('sum=', sum)\n",
    "\n",
    "#Perhitungan Pendekatan Limit\n",
    "print('pendekatan limit')\n",
    "def y(x): return (x*sin(x))/(x-pi)\n",
    "\n",
    "\n",
    "print(limit(y, inf))\n",
    "\n",
    "#Koeffisien Deret McLaurint\n",
    "print('koeffisien Deret Maclaurint')\n",
    "def f(x): return cos(x)\n",
    "\n",
    "\n",
    "nprint([diff(f, 0, n) for n in range(5)])\n",
    "\n",
    "#Plot Grafik Deret McLaurint\n",
    "x = np.linspace(-np.pi, np.pi, 200)\n",
    "y = np.zeros(len(x))\n",
    "labels = ['S1', 'S2', 'S3', 'S4']\n",
    "plt.figure()\n",
    "for n, label in zip(range(4), labels):\n",
    "    y = y + ((-1)**n * (x)**(2*n)) / np.math.factorial(2*n)\n",
    "    plt.plot(x, y, label=label)\n",
    "plt.plot(x, np.cos(x), 'k', label='Analytic')\n",
    "plt.grid()\n",
    "plt.xlabel('x')\n",
    "plt.ylabel('y')\n",
    "plt.legend(loc='upper right', prop={'size': 10})\n",
    "plt.show()\n"
   ]
  },
  {
   "cell_type": "code",
   "execution_count": null,
   "metadata": {},
   "outputs": [],
   "source": [
    "from scipy.misc import derivative\n",
    "import math\n",
    "\n",
    "\n",
    "class TaylorSeries():\n",
    "    def __init__(self, function, order, center=0):\n",
    "        self.center = center\n",
    "        self.f = function\n",
    "        self.order = order\n",
    "        self.d_pts = order*2\n",
    "        self.coefficients = []\n",
    "\n",
    "        # number of points (order) for scipy.misc.derivative\n",
    "        if self.d_pts % 2 == 0:  # must be odd and greater than derivative order\n",
    "            self.d_pts += 1\n",
    "\n",
    "        self.__find_coefficients()\n",
    "\n",
    "    def __find_coefficients(self):\n",
    "        for i in range(0, self.order+1):\n",
    "            self.coefficients.append(round(derivative(\n",
    "                self.f, self.center, n=i, order=self.d_pts)/math.factorial(i), 5))\n",
    "\n",
    "    def print_equation(self):\n",
    "        eqn_string = \"\"\n",
    "        for i in range(self.order + 1):\n",
    "            if self.coefficients[i] != 0:\n",
    "                eqn_string += str(self.coefficients[i]) + (\n",
    "                    \"(x-{})^{}\".format(self.center, i) if i > 0 else \"\") + \" + \"\n",
    "        eqn_string = eqn_string[:-\n",
    "                                3] if eqn_string.endswith(\" + \") else eqn_string\n",
    "        print(eqn_string)\n",
    "\n",
    "    def print_coefficients(self):\n",
    "        print(self.coefficients)\n",
    "\n",
    "    def approximate_value(self, x):\n",
    "        \"\"\"\n",
    "            Approximates the value of f(x) using the taylor polynomial.\n",
    "            x = point to approximate f(x)\n",
    "        \"\"\"\n",
    "        fx = 0\n",
    "        for i in range(len(self.coefficients)):\n",
    "            # coefficient * nth term\n",
    "            fx += self.coefficients[i] * ((x - self.center)**i)\n",
    "        return fx\n",
    "\n",
    "    def approximate_derivative(self, x):\n",
    "        \"\"\"\n",
    "            Estimates the derivative of a function f(x) from its Taylor series.\n",
    "            Useless since we need the derivative of the actual function to find the series\n",
    "        \"\"\"\n",
    "        value = 0\n",
    "        # skip the first value (constant) as the derivative is 0\n",
    "        for i in range(1, len(self.coefficients)):\n",
    "            # differentiate each term: x^n => n*x^(n-1)\n",
    "            value += self.coefficients[i] * i * ((x - self.center)**(i-1))\n",
    "        return value\n",
    "\n",
    "    def approximate_integral(self, x0, x1):\n",
    "        \"\"\"\n",
    "            Estimates the definite integral of the function using the Taylor series expansion.\n",
    "            More useful, consider e^x * sin(x), easy to differentiate but difficult to integrate.\n",
    "            x0 - lower limit of integration\n",
    "            x1 - upper limit of integration \n",
    "        \"\"\"\n",
    "\n",
    "        # integrals can be off by a constant since int(f(x)) = F(x) + C\n",
    "        value = 0\n",
    "        for i in range(len(self.coefficients)):\n",
    "            value += ((self.coefficients[i] * (1/(i+1)) * ((x1 - self.center)**(i+1))) -\n",
    "                      (self.coefficients[i] * (1/(i+1)) * ((x0 - self.center)**(i+1))))  # integrate each term: x^n => (1/n+1)*x^(n+1)\n",
    "        return value\n",
    "\n",
    "    def get_coefficients(self):\n",
    "        \"\"\"\n",
    "            Returns the coefficients of the taylor series \n",
    "        \"\"\"\n",
    "        return self.coefficients\n"
   ]
  },
  {
   "cell_type": "code",
   "execution_count": null,
   "metadata": {},
   "outputs": [],
   "source": [
    "maclaurin"
   ]
  },
  {
   "cell_type": "code",
   "execution_count": null,
   "metadata": {},
   "outputs": [],
   "source": [
    "from sympy.series import series\n",
    "print(series(sin(x), x0=0, n=10))\n"
   ]
  },
  {
   "cell_type": "code",
   "execution_count": null,
   "metadata": {},
   "outputs": [],
   "source": [
    "import sympy as sy\n",
    "import numpy as np\n",
    "from sympy.functions import sin, cos\n",
    "import matplotlib.pyplot as plt\n",
    "\n",
    "plt.style.use(\"ggplot\")\n",
    "\n",
    "# Define the variable and the function to approximate\n",
    "x = sy.Symbol('x')\n",
    "f = sin(x)\n",
    "\n",
    "# Factorial function\n",
    "\n",
    "\n",
    "def factorial(n):\n",
    "    if n <= 0:\n",
    "        return 1\n",
    "    else:\n",
    "        return n*factorial(n-1)\n",
    "\n",
    "# Taylor approximation at x0 of the function 'function'\n",
    "\n",
    "\n",
    "def taylor(function, x0, n):\n",
    "    i = 0\n",
    "    p = 0\n",
    "    while i <= n:\n",
    "        p = p + (function.diff(x, i).subs(x, x0))/(factorial(i))*(x-x0)**i\n",
    "        i += 1\n",
    "    return p\n"
   ]
  },
  {
   "cell_type": "code",
   "execution_count": null,
   "metadata": {},
   "outputs": [],
   "source": [
    "# Plot results\n",
    "def plot():\n",
    "    x_lims = [-5, 5]\n",
    "    x1 = np.linspace(x_lims[0], x_lims[1], 800)\n",
    "    y1 = []\n",
    "    # Approximate up until 10 starting from 1 and using steps of 2\n",
    "    for j in range(1, 10, 2):\n",
    "        func = taylor(f, 0, j)\n",
    "        print('Taylor expansion at n='+str(j), func)\n",
    "        for k in x1:\n",
    "            y1.append(func.subs(x, k))\n",
    "        plt.plot(x1, y1, label='order '+str(j))\n",
    "        y1 = []\n",
    "    # Plot the function to approximate (sine, in this case)\n",
    "    plt.plot(x1, np.sin(x1), label='sin of x')\n",
    "    plt.xlim(x_lims)\n",
    "    plt.ylim([-5, 5])\n",
    "    plt.xlabel('x')\n",
    "    plt.ylabel('y')\n",
    "    plt.legend()\n",
    "    plt.grid(True)\n",
    "    plt.title('Taylor series approximation')\n",
    "    plt.show()\n",
    "\n",
    "\n",
    "plot()\n"
   ]
  },
  {
   "cell_type": "code",
   "execution_count": null,
   "metadata": {},
   "outputs": [],
   "source": []
  }
 ],
 "metadata": {
  "interpreter": {
   "hash": "aecd030d4c8316a52bf122072e28f84bcc79844c2684e041fef2e3f1d9f59078"
  },
  "kernelspec": {
   "display_name": "Python 3.10.2 64-bit",
   "language": "python",
   "name": "python3"
  },
  "language_info": {
   "codemirror_mode": {
    "name": "ipython",
    "version": 3
   },
   "file_extension": ".py",
   "mimetype": "text/x-python",
   "name": "python",
   "nbconvert_exporter": "python",
   "pygments_lexer": "ipython3",
   "version": "3.10.2"
  },
  "orig_nbformat": 4
 },
 "nbformat": 4,
 "nbformat_minor": 2
}
